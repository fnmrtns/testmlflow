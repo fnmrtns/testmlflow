{
 "cells": [
  {
   "cell_type": "code",
   "execution_count": 12,
   "id": "e7fdcdd4",
   "metadata": {},
   "outputs": [],
   "source": [
    "import logging\n",
    "import warnings\n",
    "\n",
    "\n",
    "# Wine Quality Sample\n",
    "def train(it_n_estimators, it_learning_rate, it_max_depth):\n",
    "    import pandas as pd\n",
    "    import numpy as np\n",
    "    from sklearn.model_selection import train_test_split\n",
    "    from sklearn.metrics import mean_squared_error, mean_absolute_error, r2_score\n",
    "    from xgboost import XGBRegressor\n",
    "\n",
    "    import mlflow\n",
    "    import mlflow.sklearn\n",
    "    import mlflow.xgboost\n",
    "    from mlflow.models import infer_signature\n",
    "\n",
    "    logging.basicConfig(level=logging.WARN)\n",
    "    logger = logging.getLogger(__name__)\n",
    "\n",
    "    def eval_metrics(actual, pred):\n",
    "        rmse = np.sqrt(mean_squared_error(actual, pred))\n",
    "        mae = mean_absolute_error(actual, pred)\n",
    "        r2 = r2_score(actual, pred)\n",
    "        return rmse, mae, r2\n",
    "\n",
    "    warnings.filterwarnings(\"ignore\")\n",
    "    np.random.seed(40)\n",
    "\n",
    "\n",
    "    # Read the wine-quality csv file from the URL\n",
    "    csv_url = (\n",
    "        \"http://archive.ics.uci.edu/ml/machine-learning-databases/wine-quality/winequality-red.csv\"\n",
    "    )\n",
    "    try:\n",
    "        data = pd.read_csv(csv_url, sep=\";\")\n",
    "    except Exception as e:\n",
    "        logger.exception(\n",
    "            f\"Unable to download training & test CSV, check your internet connection. Error: {e}\"\n",
    "        )\n",
    "\n",
    "\n",
    "    # Split the data into training and test sets. (0.75, 0.25) split.\n",
    "    train, test = train_test_split(data, test_size=0.25, random_state=40)\n",
    "\n",
    "\n",
    "    # The predicted column is \"quality\" which is a scalar from [3, 9]\n",
    "    train_x = train.drop([\"quality\"], axis=1)\n",
    "    test_x = test.drop([\"quality\"], axis=1)\n",
    "    train_y = train[[\"quality\"]]\n",
    "    test_y = test[[\"quality\"]]\n",
    "\n",
    "    # Set default values if no n_estimators is provided\n",
    "    n_estimators = 100 if int(it_n_estimators) is None else int(it_n_estimators)\n",
    "\n",
    "    # Set default values if no learning_rate is provided\n",
    "    learning_rate = 0.1 if float(it_learning_rate) is None else float(it_learning_rate)\n",
    "\n",
    "    # Set default values if no max_depht is provided\n",
    "    max_depth = 5 if int(it_max_depth) is None else int(it_max_depth)\n",
    "\n",
    "    # Useful for multiple runs (only doing one run in this sample notebook)\n",
    "    with mlflow.start_run():\n",
    "        # Execute ElasticNet\n",
    "        lr = XGBRegressor(\n",
    "            n_estimators=n_estimators,\n",
    "            learning_rate=learning_rate,\n",
    "            max_depth=max_depth,\n",
    "            random_state=40\n",
    "        )\n",
    "        lr.fit(train_x, train_y)\n",
    "\n",
    "        # Evaluate Metrics\n",
    "        predicted_qualities = lr.predict(test_x)\n",
    "        (rmse, mae, r2) = eval_metrics(test_y, predicted_qualities)\n",
    "\n",
    "        # Print out metrics\n",
    "        print(f\"XGBoost Regressor (n_estimators={n_estimators:f}, learning_rate={learning_rate:f}, max_depth={max_depth:f}):\")\n",
    "        print(f\"  RMSE: {rmse}\")\n",
    "        print(f\"  MAE: {mae}\")\n",
    "        print(f\"  R2: {r2}\")\n",
    "\n",
    "        # Infer model signature\n",
    "        predictions = lr.predict(train_x)\n",
    "        signature = infer_signature(train_x, predictions)\n",
    "\n",
    "        # Log parameter, metrics, and model to MLflow\n",
    "        mlflow.log_param(\"n_estimators\", n_estimators)\n",
    "        mlflow.log_param(\"learning_rate\", learning_rate)\n",
    "        mlflow.log_param(\"max_depth\", max_depth)\n",
    "        mlflow.log_metric(\"rmse\", rmse)\n",
    "        mlflow.log_metric(\"r2\", r2)\n",
    "        mlflow.log_metric(\"mae\", mae)\n",
    "\n",
    "        mlflow.log_param(\"data_set\", \"wine_quality_v.1.0.0\")\n",
    "\n",
    "        mlflow.sklearn.log_model(lr, \"model\", signature=signature)\n",
    "\n",
    "        mlflow.xgboost.log_model(lr, \"xgboost_model\", registered_model_name=\"xgboost_v.1.0.0_dataset_v.1.0.0\")\n",
    "\n",
    "        "
   ]
  },
  {
   "cell_type": "markdown",
   "id": "5991ec79",
   "metadata": {},
   "source": [
    "train(200, 0.2, 10)"
   ]
  },
  {
   "cell_type": "code",
   "execution_count": 13,
   "id": "062c5a75",
   "metadata": {},
   "outputs": [
    {
     "name": "stdout",
     "output_type": "stream",
     "text": [
      "XGBoost Regressor (n_estimators=150.000000, learning_rate=0.010000, max_depth=2.000000):\n",
      "  RMSE: 0.6884537145850858\n",
      "  MAE: 0.5528584349155427\n",
      "  R2: 0.32844246803017596\n"
     ]
    },
    {
     "name": "stderr",
     "output_type": "stream",
     "text": [
      "Successfully registered model 'xgboost_v.1.0.0_dataset_v.1.0.0'.\n",
      "Created version '1' of model 'xgboost_v.1.0.0_dataset_v.1.0.0'.\n"
     ]
    }
   ],
   "source": [
    "train(150, 0.01, 2)"
   ]
  },
  {
   "cell_type": "code",
   "execution_count": 14,
   "id": "a3df908c",
   "metadata": {},
   "outputs": [
    {
     "name": "stdout",
     "output_type": "stream",
     "text": [
      "XGBoost Regressor (n_estimators=200.000000, learning_rate=0.200000, max_depth=10.000000):\n",
      "  RMSE: 0.6111864460712434\n",
      "  MAE: 0.39593769192695616\n",
      "  R2: 0.4707252709982688\n"
     ]
    },
    {
     "name": "stderr",
     "output_type": "stream",
     "text": [
      "Registered model 'xgboost_v.1.0.0_dataset_v.1.0.0' already exists. Creating a new version of this model...\n",
      "Created version '2' of model 'xgboost_v.1.0.0_dataset_v.1.0.0'.\n"
     ]
    }
   ],
   "source": [
    "train(200, 0.2, 10)"
   ]
  },
  {
   "cell_type": "code",
   "execution_count": 15,
   "id": "3ed759f6",
   "metadata": {},
   "outputs": [
    {
     "name": "stdout",
     "output_type": "stream",
     "text": [
      "XGBoost Regressor (n_estimators=100.000000, learning_rate=0.100000, max_depth=5.000000):\n",
      "  RMSE: 0.6040791510588813\n",
      "  MAE: 0.44500560402870176\n",
      "  R2: 0.4829632379384101\n"
     ]
    },
    {
     "name": "stderr",
     "output_type": "stream",
     "text": [
      "Registered model 'xgboost_v.1.0.0_dataset_v.1.0.0' already exists. Creating a new version of this model...\n",
      "Created version '3' of model 'xgboost_v.1.0.0_dataset_v.1.0.0'.\n"
     ]
    }
   ],
   "source": [
    "train(100, 0.1, 5)"
   ]
  }
 ],
 "metadata": {
  "kernelspec": {
   "display_name": ".testmyflow",
   "language": "python",
   "name": "python3"
  },
  "language_info": {
   "codemirror_mode": {
    "name": "ipython",
    "version": 3
   },
   "file_extension": ".py",
   "mimetype": "text/x-python",
   "name": "python",
   "nbconvert_exporter": "python",
   "pygments_lexer": "ipython3",
   "version": "3.9.13"
  }
 },
 "nbformat": 4,
 "nbformat_minor": 5
}
